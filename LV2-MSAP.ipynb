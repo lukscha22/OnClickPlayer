{
  "nbformat": 4,
  "nbformat_minor": 0,
  "metadata": {
    "colab": {
      "provenance": [],
      "mount_file_id": "1mAhMQDOXEV_yvllV3HuiT6md7q2B5HVo",
      "authorship_tag": "ABX9TyNbJTIpF6e3HYPM33C9yIHq",
      "include_colab_link": true
    },
    "kernelspec": {
      "name": "python3",
      "display_name": "Python 3"
    },
    "language_info": {
      "name": "python"
    }
  },
  "cells": [
    {
      "cell_type": "markdown",
      "metadata": {
        "id": "view-in-github",
        "colab_type": "text"
      },
      "source": [
        "<a href=\"https://colab.research.google.com/github/lukscha22/OnClickPlayer/blob/main/LV2-MSAP.ipynb\" target=\"_parent\"><img src=\"https://colab.research.google.com/assets/colab-badge.svg\" alt=\"Open In Colab\"/></a>"
      ]
    },
    {
      "cell_type": "markdown",
      "source": [
        "LUKŠA ANDRAČIĆ\n",
        "LV2 - STATISTIČKO ZAKLJUČIVANJE\n",
        "06.11.2024."
      ],
      "metadata": {
        "id": "iV7qqDnq2wXR"
      }
    },
    {
      "cell_type": "markdown",
      "source": [
        "Svrha labaratorijske vježbe je uvježbati osnovne tehnike parametarskog i neparametoraskog zaključivanja. Uvježbati ćemo primjene različitih metoda zaključivanja na jednoj/dvije varijable i provesti testiranja hipoteza o distribucijama i srednjim vrijednostima."
      ],
      "metadata": {
        "id": "6mJC_KL23DOy"
      }
    },
    {
      "cell_type": "markdown",
      "source": [
        "1. Zadatak: Analiza hormona"
      ],
      "metadata": {
        "id": "O9DEiAPmH-Sq"
      }
    },
    {
      "cell_type": "code",
      "execution_count": 44,
      "metadata": {
        "colab": {
          "base_uri": "https://localhost:8080/"
        },
        "id": "VobDa2eO0Ytg",
        "outputId": "593dbc1e-5618-4e24-f072-0258b88f9ec3"
      },
      "outputs": [
        {
          "output_type": "stream",
          "name": "stdout",
          "text": [
            "  spol gastrS somatS  somatZ  pusenje  alkohol  kava  CLOtest dijagnoza,,,\n",
            "0    z  92,30    3,1   29.31        1        0     1        1            G\n",
            "1    z  49,50    8,5    5.52        0        0     1        1            G\n",
            "2    z  40,50   16,2   15.22        1        0     1        0            G\n",
            "3    z  42,70     16    3.67        0        0     1        0           G,\n",
            "4    z  48,20     16   66.97        1        0     1        0           G,\n",
            "<class 'pandas.core.frame.DataFrame'>\n",
            "Index: 81 entries, 0 to 81\n",
            "Data columns (total 9 columns):\n",
            " #   Column        Non-Null Count  Dtype  \n",
            "---  ------        --------------  -----  \n",
            " 0   spol          81 non-null     object \n",
            " 1   gastrS        77 non-null     object \n",
            " 2   somatS        76 non-null     object \n",
            " 3   somatZ        81 non-null     float64\n",
            " 4   pusenje       81 non-null     int64  \n",
            " 5   alkohol       81 non-null     int64  \n",
            " 6   kava          81 non-null     int64  \n",
            " 7   CLOtest       81 non-null     int64  \n",
            " 8   dijagnoza,,,  81 non-null     object \n",
            "dtypes: float64(1), int64(4), object(4)\n",
            "memory usage: 6.3+ KB\n",
            "None\n"
          ]
        }
      ],
      "source": [
        "import pandas as pd\n",
        "import numpy as np\n",
        "import scipy.stats as stats\n",
        "\n",
        "data_hormon = pd.read_csv('/content/sample_data/hormon.csv', delimiter=';', encoding='latin1')\n",
        "data_hormon['somatZ'] = data_hormon['somatZ'].str.replace(',', '.').astype(float)\n",
        "data_hormon_clean = data_hormon.dropna(subset=['somatZ'])\n",
        "print(data_hormon_clean.head())\n",
        "print(data_hormon_clean.info())\n",
        "\n",
        "\n",
        "\n"
      ]
    },
    {
      "cell_type": "markdown",
      "source": [
        "Varijabla koju analiziramo je somatZ, vrsta podatka je float64, tj. cijelobrojne vrijednsoti."
      ],
      "metadata": {
        "id": "Osho_igZ4b0z"
      }
    },
    {
      "cell_type": "code",
      "source": [
        "razina_pouzdanosti = 0.99\n",
        "alfa = 1 - razina_pouzdanosti\n",
        "t_vrijednost = stats.t.ppf(1 - alfa / 2, len(data_hormon_clean['somatZ']) - 1)\n",
        "margina_pogreške = t_vrijednost * (np.std(data_hormon_clean['somatZ']) / np.sqrt(len(data_hormon_clean['somatZ'])))\n",
        "donja_granica = np.mean(data_hormon_clean['somatZ']) - margina_pogreške\n",
        "gornja_granica = np.mean(data_hormon_clean['somatZ']) + margina_pogreške\n",
        "print(f\"99% interval povjerenja:({donja_granica}), ({gornja_granica})\")\n",
        "\n",
        "print(stats.shapiro(data_hormon_clean['somatZ']))\n",
        "\n",
        "group_men = data_hormon_clean[data_hormon_clean['spol'] == 'm']['somatZ'].values\n",
        "group_women = data_hormon_clean[data_hormon_clean['spol'] == 'z']['somatZ'].values\n",
        "print(len(data_hormon['somatZ']))\n",
        "\n",
        "stat, p=stats.mannwhitneyu(group_men, group_women)\n",
        "print(f\"stat={stat}, p={p}\")\n",
        "\n",
        "group_smoke = data_hormon_clean[data_hormon_clean['pusenje']==1]['somatZ']\n",
        "group_nonsmoke = data_hormon_clean[data_hormon_clean['pusenje']==0]['somatZ']\n",
        "\n",
        "stat, p=stats.mannwhitneyu(group_smoke, group_nonsmoke)\n",
        "print(f\"stat={stat}, p={p}\")\n"
      ],
      "metadata": {
        "colab": {
          "base_uri": "https://localhost:8080/"
        },
        "id": "nvGN5oBw5hJR",
        "outputId": "70052b8c-0530-453f-fb11-8651e790a72b"
      },
      "execution_count": 49,
      "outputs": [
        {
          "output_type": "stream",
          "name": "stdout",
          "text": [
            "99% interval povjerenja:(12.46267979522299), (30.1541103282338)\n",
            "ShapiroResult(statistic=0.5842365346830292, pvalue=8.508423157833798e-14)\n",
            "82\n",
            "stat=799.0, p=0.846448884566839\n",
            "stat=887.0, p=0.5234595783168359\n"
          ]
        }
      ]
    },
    {
      "cell_type": "markdown",
      "source": [
        "Shapirko-wilk test nam daje informaciju da podaci nisu noramlno raspoređeni te ćemo koristiti neparametrijske metode,  to saznajemo iz pvalue koji je puno manji od 0.05. Mann-Whitneyevim U testom ispitujemo hoćemo li zadržati ili odbaciti nultu hipotezu.\n",
        "Nemožemo odbaciti nultu hipotezu.\n"
      ],
      "metadata": {
        "id": "AFK64YBz8lct"
      }
    },
    {
      "cell_type": "markdown",
      "source": [
        "2. Zadatak: Analiza navika čitanja"
      ],
      "metadata": {
        "id": "AsJ5XEukHy6w"
      }
    },
    {
      "cell_type": "code",
      "source": [
        "data_books = pd.read_csv('/content/sample_data/knjiga.csv', delimiter=';', encoding='latin1')\n",
        "print(data_books.head())\n",
        "print(data_books.info())\n",
        "\n",
        "group_men = data_books[data_books['spol'] == 'm']['spol']\n",
        "group_women = data_books[data_books['spol'] == 'z']['spol']\n",
        "\n",
        "group_reading = data_books[data_books['citanje']==1]['citanje']\n",
        "group_not_reading = data_books[data_books['citanje']==0]['citanje']\n",
        "\n",
        "group_sss = data_books[data_books['obrazovanje'] == 'SSS']['obrazovanje'].values\n",
        "group_nss = data_books[data_books['obrazovanje'] == 'NSS']['obrazovanje'].values\n",
        "group_vss = data_books[data_books['obrazovanje'] == 'VSS']['obrazovanje'].values\n",
        "\n",
        "\n",
        "\n"
      ],
      "metadata": {
        "colab": {
          "base_uri": "https://localhost:8080/"
        },
        "id": "_AQrHIfiHfu2",
        "outputId": "8aa1d13c-2689-440b-ca1a-e5b45ea77b5b"
      },
      "execution_count": 46,
      "outputs": [
        {
          "output_type": "stream",
          "name": "stdout",
          "text": [
            "   citanje spol obrazovanje\n",
            "0        0    Z         SSS\n",
            "1        0    M         SSS\n",
            "2        1    Z         NSS\n",
            "3        1    Z         VSS\n",
            "4        0    Z         NSS\n",
            "<class 'pandas.core.frame.DataFrame'>\n",
            "RangeIndex: 744 entries, 0 to 743\n",
            "Data columns (total 3 columns):\n",
            " #   Column       Non-Null Count  Dtype \n",
            "---  ------       --------------  ----- \n",
            " 0   citanje      744 non-null    int64 \n",
            " 1   spol         744 non-null    object\n",
            " 2   obrazovanje  744 non-null    object\n",
            "dtypes: int64(1), object(2)\n",
            "memory usage: 17.6+ KB\n",
            "None\n"
          ]
        }
      ]
    }
  ]
}